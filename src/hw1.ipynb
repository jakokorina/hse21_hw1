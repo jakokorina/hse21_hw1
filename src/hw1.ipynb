{
 "cells": [
  {
   "cell_type": "markdown",
   "metadata": {},
   "source": [
    "## Домашнее задание 1\n",
    "### Кокорина Юлия группа 1"
   ]
  },
  {
   "cell_type": "code",
   "execution_count": 1,
   "metadata": {},
   "outputs": [],
   "source": [
    "def computeValues(s):\n",
    "    f = open(s, \"r\")\n",
    "    print(\"Метрики для файла \", s)\n",
    "    count_contig = 0\n",
    "    length = 0\n",
    "    all_contig = []\n",
    "\n",
    "    for i in f.readlines():\n",
    "        if (i[0] == '>'):\n",
    "            count_contig += 1\n",
    "            idx = i.find('len') + 3\n",
    "            num = int(i[idx : i.find('_', idx)])\n",
    "            length += num\n",
    "            all_contig.append(num)\n",
    "            \n",
    "    all_contig.sort(reverse = True)\n",
    "    sum_ = 0\n",
    "    idx = 0\n",
    "    while sum_ < length / 2:\n",
    "        sum_ += all_contig[idx]\n",
    "        idx += 1\n",
    "        \n",
    "    idx -= 1\n",
    "    print(\"Количество контигов: \", count_contig)\n",
    "    print(\"Общая длина контигов: \", length)\n",
    "    print(\"Длина самого длинного контига: \", all_contig[0])\n",
    "    print(\"N50: \", all_contig[idx])"
   ]
  },
  {
   "cell_type": "code",
   "execution_count": 2,
   "metadata": {},
   "outputs": [],
   "source": [
    "computeValues(\"Poil_contig.fa\")"
   ]
  },
  {
   "cell_type": "code",
   "execution_count": 3,
   "metadata": {},
   "outputs": [
    {
     "name": "stdout",
     "output_type": "stream",
     "text": [
      "Метрики для файла  Poil_scaffold.fa\n",
      "Количество контигов:  69\n",
      "Общая длина контигов:  3873645\n",
      "Длина самого длинного контига:  3834022\n",
      "N50:  3834022\n"
     ]
    }
   ],
   "source": [
    "computeValues(\"Poil_scaffold.fa\")"
   ]
  },
  {
   "cell_type": "code",
   "execution_count": 4,
   "metadata": {},
   "outputs": [],
   "source": [
    "import re\n",
    "\n",
    "def countScaff(s):\n",
    "    f = open(s, \"r\")\n",
    "    print(\"Для файла: \", s)\n",
    "    count = 0\n",
    "    longstr = f.read()\n",
    "    res = re.findall(r'(N+)', longstr)\n",
    "    print('Количество гэпов:', len(res))\n",
    "    for i in res:\n",
    "        count += len(i)\n",
    "    print('Общая длина:', count)"
   ]
  },
  {
   "cell_type": "code",
   "execution_count": 5,
   "metadata": {},
   "outputs": [
    {
     "name": "stdout",
     "output_type": "stream",
     "text": [
      "Для файла:  Scaff.fna\n",
      "Количество гэпов: 63\n",
      "Общая длина: 6742\n"
     ]
    }
   ],
   "source": [
    "countScaff(\"Scaff.fna\")"
   ]
  },
  {
   "cell_type": "code",
   "execution_count": 6,
   "metadata": {},
   "outputs": [
    {
     "name": "stdout",
     "output_type": "stream",
     "text": [
      "Для файла:  longest_scaff.fna\n",
      "Количество гэпов: 8\n",
      "Общая длина: 1673\n"
     ]
    }
   ],
   "source": [
    "countScaff(\"longest_scaff.fna\")"
   ]
  }
 ],
 "metadata": {
  "kernelspec": {
   "display_name": "Python 3",
   "language": "python",
   "name": "python3"
  },
  "language_info": {
   "codemirror_mode": {
    "name": "ipython",
    "version": 3
   },
   "file_extension": ".py",
   "mimetype": "text/x-python",
   "name": "python",
   "nbconvert_exporter": "python",
   "pygments_lexer": "ipython3",
   "version": "3.7.4"
  }
 },
 "nbformat": 4,
 "nbformat_minor": 2
}
